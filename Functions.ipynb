{
 "cells": [
  {
   "cell_type": "code",
   "execution_count": 1,
   "metadata": {},
   "outputs": [],
   "source": [
    "import numpy as np\n",
    "from matplotlib import pyplot as plt"
   ]
  },
  {
   "cell_type": "code",
   "execution_count": 2,
   "metadata": {},
   "outputs": [],
   "source": [
    "w = lambda x : 1.0 / (x**4)"
   ]
  },
  {
   "cell_type": "code",
   "execution_count": 3,
   "metadata": {},
   "outputs": [
    {
     "data": {
      "text/plain": [
       "(0, 100)"
      ]
     },
     "execution_count": 3,
     "metadata": {},
     "output_type": "execute_result"
    },
    {
     "data": {
      "image/png": "[encoded data removed]",
      "text/plain": [
       "<Figure size 432x288 with 1 Axes>"
      ]
     },
     "metadata": {
      "needs_background": "light"
     },
     "output_type": "display_data"
    }
   ],
   "source": [
    "d = np.linspace(1e-5, 1, 100)\n",
    "\n",
    "fig, axes = plt.subplots()\n",
    "axes.plot(d, w(d))\n",
    "axes.set_ylim([0, 100])"
   ]
  },
  {
   "cell_type": "code",
   "execution_count": 15,
   "metadata": {},
   "outputs": [],
   "source": [
    "sigma = 0.01\n",
    "def u(x_dot): \n",
    "    return 1 - np.exp(-x_dot**2/(2*sigma**2))"
   ]
  },
  {
   "cell_type": "code",
   "execution_count": 16,
   "metadata": {},
   "outputs": [
    {
     "data": {
      "text/plain": [
       "Text(0.5, 0, '$\\\\dot{s}$')"
      ]
     },
     "execution_count": 16,
     "metadata": {},
     "output_type": "execute_result"
    },
    {
     "data": {
      "image/png": "[encoded data removed]",
      "text/plain": [
       "<Figure size 432x288 with 1 Axes>"
      ]
     },
     "metadata": {
      "needs_background": "light"
     },
     "output_type": "display_data"
    }
   ],
   "source": [
    "d_dot = np.linspace(-1, 1, 1000)\n",
    "\n",
    "fig, axes = plt.subplots()\n",
    "\n",
    "axes.plot(d_dot, u(d_dot))\n",
    "axes.axvline(x=0, linestyle='--')\n",
    "axes.set_ylim([-1, 2])\n",
    "axes.set_xlabel(r'$\\dot{s}$')"
   ]
  },
  {
   "cell_type": "code",
   "execution_count": 24,
   "metadata": {},
   "outputs": [
    {
     "data": {
      "text/plain": [
       "array([0.])"
      ]
     },
     "execution_count": 24,
     "metadata": {},
     "output_type": "execute_result"
    }
   ],
   "source": [
    "a = np.zeros([1,5])\n",
    "np.diag(a)"
   ]
  },
  {
   "cell_type": "code",
   "execution_count": 6,
   "metadata": {},
   "outputs": [
    {
     "name": "stdout",
     "output_type": "stream",
     "text": [
      "Help on method axvline in module matplotlib.axes._axes:\n",
      "\n",
      "axvline(x=0, ymin=0, ymax=1, **kwargs) method of matplotlib.axes._subplots.AxesSubplot instance\n",
      "    Add a vertical line across the axes.\n",
      "    \n",
      "    Parameters\n",
      "    ----------\n",
      "    x : scalar, optional, default: 0\n",
      "        x position in data coordinates of the vertical line.\n",
      "    \n",
      "    ymin : scalar, optional, default: 0\n",
      "        Should be between 0 and 1, 0 being the bottom of the plot, 1 the\n",
      "        top of the plot.\n",
      "    \n",
      "    ymax : scalar, optional, default: 1\n",
      "        Should be between 0 and 1, 0 being the bottom of the plot, 1 the\n",
      "        top of the plot.\n",
      "    \n",
      "    Returns\n",
      "    -------\n",
      "    line : :class:`~matplotlib.lines.Line2D`\n",
      "    \n",
      "    Other Parameters\n",
      "    ----------------\n",
      "    **kwargs\n",
      "        Valid kwargs are :class:`~matplotlib.lines.Line2D` properties,\n",
      "        with the exception of 'transform':\n",
      "    \n",
      "      agg_filter: a filter function, which takes a (m, n, 3) float array and a dpi value, and returns a (m, n, 3) array\n",
      "      alpha: float\n",
      "      animated: bool\n",
      "      antialiased or aa: bool\n",
      "      clip_box: `.Bbox`\n",
      "      clip_on: bool\n",
      "      clip_path: [(`~matplotlib.path.Path`, `.Transform`) | `.Patch` | None]\n",
      "      color or c: color\n",
      "      contains: callable\n",
      "      dash_capstyle: {'butt', 'round', 'projecting'}\n",
      "      dash_joinstyle: {'miter', 'round', 'bevel'}\n",
      "      dashes: sequence of floats (on/off ink in points) or (None, None)\n",
      "      drawstyle or ds: {'default', 'steps', 'steps-pre', 'steps-mid', 'steps-post'}, default: 'default'\n",
      "      figure: `.Figure`\n",
      "      fillstyle: {'full', 'left', 'right', 'bottom', 'top', 'none'}\n",
      "      gid: str\n",
      "      in_layout: bool\n",
      "      label: object\n",
      "      linestyle or ls: {'-', '--', '-.', ':', '', (offset, on-off-seq), ...}\n",
      "      linewidth or lw: float\n",
      "      marker: marker style\n",
      "      markeredgecolor or mec: color\n",
      "      markeredgewidth or mew: float\n",
      "      markerfacecolor or mfc: color\n",
      "      markerfacecoloralt or mfcalt: color\n",
      "      markersize or ms: float\n",
      "      markevery: None or int or (int, int) or slice or List[int] or float or (float, float)\n",
      "      path_effects: `.AbstractPathEffect`\n",
      "      picker: float or callable[[Artist, Event], Tuple[bool, dict]]\n",
      "      pickradius: float\n",
      "      rasterized: bool or None\n",
      "      sketch_params: (scale: float, length: float, randomness: float)\n",
      "      snap: bool or None\n",
      "      solid_capstyle: {'butt', 'round', 'projecting'}\n",
      "      solid_joinstyle: {'miter', 'round', 'bevel'}\n",
      "      transform: `matplotlib.transforms.Transform`\n",
      "      url: str\n",
      "      visible: bool\n",
      "      xdata: 1D array\n",
      "      ydata: 1D array\n",
      "      zorder: float\n",
      "    \n",
      "    Examples\n",
      "    --------\n",
      "    * draw a thick red vline at *x* = 0 that spans the yrange::\n",
      "    \n",
      "        >>> axvline(linewidth=4, color='r')\n",
      "    \n",
      "    * draw a default vline at *x* = 1 that spans the yrange::\n",
      "    \n",
      "        >>> axvline(x=1)\n",
      "    \n",
      "    * draw a default vline at *x* = .5 that spans the middle half of\n",
      "      the yrange::\n",
      "    \n",
      "        >>> axvline(x=.5, ymin=0.25, ymax=0.75)\n",
      "    \n",
      "    See also\n",
      "    --------\n",
      "    vlines : Add vertical lines in data coordinates.\n",
      "    axvspan : Add a vertical span (rectangle) across the axis.\n",
      "\n"
     ]
    }
   ],
   "source": [
    "help(axes.axvline)"
   ]
  },
  {
   "cell_type": "code",
   "execution_count": null,
   "metadata": {},
   "outputs": [],
   "source": []
  }
 ],
 "metadata": {
  "kernelspec": {
   "display_name": "Python 3",
   "language": "python",
   "name": "python3"
  },
  "language_info": {
   "codemirror_mode": {
    "name": "ipython",
    "version": 3
   },
   "file_extension": ".py",
   "mimetype": "text/x-python",
   "name": "python",
   "nbconvert_exporter": "python",
   "pygments_lexer": "ipython3",
   "version": "3.7.4"
  }
 },
 "nbformat": 4,
 "nbformat_minor": 2
}
