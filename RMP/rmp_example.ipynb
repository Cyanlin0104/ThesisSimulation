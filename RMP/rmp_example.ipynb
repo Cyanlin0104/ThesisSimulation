{
 "cells": [
  {
   "cell_type": "code",
   "execution_count": 3,
   "metadata": {},
   "outputs": [],
   "source": [
    "from rmp import RMPRoot, RMPTree, RMPNode\n",
    "from rmp_leaf import NaiveCollisionAvoidance, CollisionAvoidance, GoalAttractorUni, Damper\n",
    "import numpy as np\n",
    "from numpy.linalg import norm\n",
    "\n",
    "from scipy.integrate import odeint\n",
    "import matplotlib.pyplot as plt\n",
    "\n",
    "from IPython.display import HTML\n",
    "from rmp_util import obstacle, scene, policy_evaluator"
   ]
  },
  {
   "cell_type": "markdown",
   "metadata": {},
   "source": [
    "# Play here"
   ]
  },
  {
   "cell_type": "code",
   "execution_count": 22,
   "metadata": {},
   "outputs": [],
   "source": [
    "x_g = np.array([-1, 2.6])\n",
    "x_o = np.array([0, 0])\n",
    "x_o2 = np.array([0, 0])\n",
    "x = np.array([2.5, -3.2])\n",
    "x_dot = np.array([-1, 1])\n",
    "\n",
    "test_scene = scene(goal=x_g, obstacle=[obstacle(x_o, 0.5)], x=x, x_dot=x_dot)\n",
    "\n",
    "r = RMPRoot('Root')\n",
    "\n",
    "Cave = CollisionAvoidance('collision_avoidance', r, None, obstacle=test_scene.obstacle[0], alpha=1e-5, eta=0)\n",
    "\n",
    "NCave = NaiveCollisionAvoidance('naive_collision_avoidance', r, None, obstacle=test_scene.obstacle[0], alpha=1e-5, eta=0)\n",
    "\n",
    "Gaoi = GoalAttractorUni('goal_attractor', r, test_scene.goal)\n",
    "\n"
   ]
  },
  {
   "cell_type": "code",
   "execution_count": 23,
   "metadata": {},
   "outputs": [],
   "source": [
    "tree = RMPTree(root=r, nodes=[Cave, Gaoi], nullspace=False)\n",
    "pe = policy_evaluator(test_scene, tree, np.linspace(0,30,300), method='step')"
   ]
  },
  {
   "cell_type": "code",
   "execution_count": 24,
   "metadata": {},
   "outputs": [
    {
     "name": "stdout",
     "output_type": "stream",
     "text": [
      "step cost (190, 19.06354515050167)\n"
     ]
    },
    {
     "data": {
      "image/png": "[encoded data removed]",
      "text/plain": [
       "<Figure size 360x360 with 1 Axes>"
      ]
     },
     "metadata": {
      "needs_background": "light"
     },
     "output_type": "display_data"
    }
   ],
   "source": [
    "print('step cost', pe.step_cost())\n",
    "fig, axes = plt.subplots(figsize=(5,5))\n",
    "pe.plot(fig, axes)\n",
    "#ani = pe.video(fig, axes, frames=300)\n",
    "#HTML(ani.to_html5_video())"
   ]
  },
  {
   "cell_type": "code",
   "execution_count": 25,
   "metadata": {},
   "outputs": [],
   "source": [
    "tree = RMPTree(root=r, nodes=[NCave, Gaoi], nullspace=False)\n",
    "pe = policy_evaluator(test_scene, tree, np.linspace(0,30,300), method='step')"
   ]
  },
  {
   "cell_type": "code",
   "execution_count": 26,
   "metadata": {},
   "outputs": [
    {
     "data": {
      "image/png": "[encoded data removed]",
      "text/plain": [
       "<Figure size 360x360 with 1 Axes>"
      ]
     },
     "metadata": {
      "needs_background": "light"
     },
     "output_type": "display_data"
    }
   ],
   "source": [
    "#print('step cost', pe.step_cost())\n",
    "fig, axes = plt.subplots(figsize=(5,5))\n",
    "pe.plot(fig, axes)\n",
    "#ani = pe.video(fig, axes, frames=300)\n",
    "#HTML(ani.to_html5_video())"
   ]
  },
  {
   "cell_type": "markdown",
   "metadata": {},
   "source": [
    "# Notes\n",
    "- the robot may be struggled under the summation dynamics\n"
   ]
  },
  {
   "cell_type": "markdown",
   "metadata": {},
   "source": [
    "### Matplot Lab"
   ]
  },
  {
   "cell_type": "code",
   "execution_count": null,
   "metadata": {},
   "outputs": [],
   "source": [
    "fig, axes = plt.subplots(figsize=(10,10))\n",
    "\n",
    "x = np.linspace(0, 2*np.pi, 100)\n",
    "axes.plot(x, np.sin(x))\n",
    "circle = plt.Circle((np.pi, 0), 0.5)\n",
    "axes.add_artist(circle)\n",
    "axes.set_aspect('equal')\n"
   ]
  },
  {
   "cell_type": "code",
   "execution_count": null,
   "metadata": {},
   "outputs": [],
   "source": [
    "from jupyterthemes import get_themes\n",
    "import jupyterthemes as jt\n",
    "from jupyterthemes.stylefx import set_nb_theme\n",
    "\n",
    "set_nb_theme('grade3')"
   ]
  },
  {
   "cell_type": "code",
   "execution_count": null,
   "metadata": {},
   "outputs": [],
   "source": []
  }
 ],
 "metadata": {
  "kernelspec": {
   "display_name": "Python 3",
   "language": "python",
   "name": "python3"
  },
  "language_info": {
   "codemirror_mode": {
    "name": "ipython",
    "version": 3
   },
   "file_extension": ".py",
   "mimetype": "text/x-python",
   "name": "python",
   "nbconvert_exporter": "python",
   "pygments_lexer": "ipython3",
   "version": "3.7.4"
  }
 },
 "nbformat": 4,
 "nbformat_minor": 2
}
