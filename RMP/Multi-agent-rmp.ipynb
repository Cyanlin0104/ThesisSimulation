{
 "cells": [
  {
   "cell_type": "code",
   "execution_count": 1,
   "metadata": {},
   "outputs": [
    {
     "name": "stderr",
     "output_type": "stream",
     "text": [
      "/home/cyan/anaconda3/lib/python3.7/importlib/_bootstrap.py:219: RuntimeWarning: numpy.ufunc size changed, may indicate binary incompatibility. Expected 192 from C header, got 216 from PyObject\n",
      "  return f(*args, **kwds)\n",
      "/home/cyan/anaconda3/lib/python3.7/importlib/_bootstrap.py:219: RuntimeWarning: numpy.ufunc size changed, may indicate binary incompatibility. Expected 192 from C header, got 216 from PyObject\n",
      "  return f(*args, **kwds)\n"
     ]
    },
    {
     "data": {
      "image/png": "[encoded data removed]",
      "text/plain": [
       "<Figure size 432x288 with 1 Axes>"
      ]
     },
     "metadata": {
      "needs_background": "light"
     },
     "output_type": "display_data"
    }
   ],
   "source": [
    "# RMPflow basic classes\n",
    "# @author Anqi Li\n",
    "# @date April 8, 2019\n",
    "\n",
    "from rmp import RMPRoot, RMPNode\n",
    "from rmp_leaf import CollisionAvoidance, CollisionAvoidanceDecentralized, GoalAttractorUni\n",
    "\n",
    "import numpy as np\n",
    "from numpy.linalg import norm\n",
    "\n",
    "import platform\n",
    "\n",
    "remote = \"iPad\" not in platform.platform()\n",
    "\n",
    "\n",
    "if remote:\n",
    "\tfrom scipy.integrate import solve_ivp as ode\n",
    "else:\n",
    "\tfrom ode import ode_RK as ode\n",
    "\n",
    "import matplotlib.pyplot as plt\n",
    "import matplotlib.patches as patches\n",
    "import matplotlib.animation as animation\n",
    "\n",
    "import math\n",
    "#from scipy.spatial.distance import pdist\n",
    "\n",
    "# ---------------------------------------------\n",
    "# build the rmp tree\n",
    "\n",
    "####\n",
    "%matplotlib inline\n",
    "from IPython.display import HTML\n",
    "\n",
    "N = 10\n",
    "theta = np.arange(0, 2 * np.pi, 2 * np.pi / N)\n",
    "x_g = np.stack((np.cos(theta), np.sin(theta))).T * 10\n",
    "\n",
    "\n",
    "r = RMPRoot('root')\n",
    "\n",
    "robots = []\n",
    "\n",
    "\n",
    "def create_mappings(i):\n",
    "    phi = lambda y, i=i: np.array([[y[2 * i, 0]], [y[2 * i + 1, 0]]])\n",
    "    J = lambda y, i=i: np.concatenate((\n",
    "            np.zeros((2, 2 * i)),\n",
    "            np.eye(2),\n",
    "            np.zeros((2, 2 * (N - i - 1)))), axis=1)\n",
    "    J_dot = lambda y, y_dot: np.zeros((2, 2 * N))\n",
    "\n",
    "    return phi, J, J_dot\n",
    "\n",
    "\n",
    "for i in range(N):\n",
    "    phi, J, J_dot = create_mappings(i)\n",
    "    robot = RMPNode('robot_' + str(i), r, phi, J, J_dot)\n",
    "    robots.append(robot)\n",
    "\n",
    "\n",
    "gas = []\n",
    "\n",
    "for i in range(N):\n",
    "    ga = GoalAttractorUni(\n",
    "        'ga_robot_' + str(i),\n",
    "        robots[i],\n",
    "        x_g[i],\n",
    "        alpha = 1,\n",
    "        gain = 1,\n",
    "        eta = 2)\n",
    "\n",
    "    gas.append(ga)\n",
    "\n",
    "iacas = []\n",
    "for i in range(N):\n",
    "    for j in range(N):\n",
    "        if i == j:\n",
    "            continue\n",
    "        iaca = CollisionAvoidanceDecentralized(\n",
    "            'ca_robot_' + str(i) + '_robot_' + str(j),\n",
    "            robots[i],\n",
    "            robots[j],\n",
    "            R=1)\n",
    "        iacas.append(iaca)\n",
    "\n",
    "# ----------------------------------------------\n",
    "\n",
    "# -----------------------------------------\n",
    "# possible initial configurations\n",
    "x_0 = - x_g + np.random.randn(*x_g.shape) * 0.2\n",
    "\n",
    "x = x_0.reshape(-1)\n",
    "x_dot = np.zeros_like(x)\n",
    "\n",
    "state_0 = np.concatenate((x, x_dot), axis=None)\n",
    "\n",
    "\n",
    "r.set_root_state(x, x_dot)\n",
    "r.pushforward()\n",
    "[leaf.update() for leaf in iacas]\n",
    "r.pullback()\n",
    "# --------------------------------------------\n",
    "\n",
    "# --------------------------------------------\n",
    "# dynamics\n",
    "def dynamics(t, state):\n",
    "    state = state.reshape(2, -1)\n",
    "    x = state[0]\n",
    "    x_dot = state[1]\n",
    "    r.set_root_state(x, x_dot)\n",
    "    r.pushforward()\n",
    "    [leaf.update() for leaf in iacas]\n",
    "    r.pullback()\n",
    "    x_ddot = r.resolve()\n",
    "    state_dot = np.concatenate((x_dot, x_ddot), axis=None)\n",
    "    return state_dot\n",
    "# --------------------------------------------\n",
    "\n",
    "# ---------------------------------------------\n",
    "# solve the diff eq\n",
    "sol = ode(dynamics, [0, 60], state_0)\n",
    "# ---------------------------------------------\n",
    "\n",
    "# --------------------------------------------\n",
    "# plot trajectories\n",
    "\n",
    "\n",
    "for i in range(N):\n",
    "    plt.plot(sol.y[2 * i], sol.y[2 * i + 1], 'y--')\n",
    "    #plt.plot(sol[:, 2*i], sol[:, 2*i+1], 'y--')\n",
    "    plt.plot(x_g[i, 0], x_g[i, 1], 'go')\n",
    "    plt.plot(x_0[i, 0], x_0[i, 1], 'ro')\n",
    "\n",
    "\n",
    "plt.axis(np.array([-12, 12, -12, 12]))\n",
    "plt.gca().set_aspect('equal', 'box')\n",
    "\n",
    "fig = plt.gcf()\n",
    "ax = plt.gca()\n",
    "\n",
    "agents, = plt.plot(sol.y[0: 2 * N: 2, 0], sol.y[1: 2 * N + 1: 2, 0], 'ko')\n",
    "\n",
    "\n",
    "def init():  # only required for blitting to give a clean slate.\n",
    "    return agents,\n",
    "\n",
    "\n",
    "def animate(i):\n",
    "    nsteps = sol.y.shape[-1]\n",
    "    agents.set_xdata(sol.y[0: 2 * N: 2, i % nsteps])\n",
    "    agents.set_ydata(sol.y[1: 2 * N + 1: 2, i % nsteps])\n",
    "    return agents,\n",
    "\n",
    "\n",
    "ani = animation.FuncAnimation(\n",
    "    fig, animate, init_func=init, interval=30, blit=True)\n",
    "\n",
    "\n",
    "####\n",
    "#plt.show()\n",
    "# --------------------------------------------\n"
   ]
  },
  {
   "cell_type": "code",
   "execution_count": 2,
   "metadata": {},
   "outputs": [
    {
     "data": {
      "text/plain": [
       "True"
      ]
     },
     "execution_count": 2,
     "metadata": {},
     "output_type": "execute_result"
    }
   ],
   "source": [
    "ani._repr_html_() is None"
   ]
  },
  {
   "cell_type": "code",
   "execution_count": 3,
   "metadata": {},
   "outputs": [
    {
     "data": {
      "text/plain": [
       "<matplotlib.animation.FuncAnimation at 0x7f70744bed10>"
      ]
     },
     "execution_count": 3,
     "metadata": {},
     "output_type": "execute_result"
    }
   ],
   "source": [
    "ani"
   ]
  },
  {
   "cell_type": "code",
   "execution_count": 4,
   "metadata": {},
   "outputs": [],
   "source": [
    "from matplotlib import rc\n",
    "rc('animation', html='html5')"
   ]
  },
  {
   "cell_type": "code",
   "execution_count": 5,
   "metadata": {},
   "outputs": [
    {
     "ename": "RuntimeError",
     "evalue": "Requested MovieWriter (ffmpeg) not available",
     "output_type": "error",
     "traceback": [
      "\u001b[0;31m---------------------------------------------------------------------------\u001b[0m",
      "\u001b[0;31mKeyError\u001b[0m                                  Traceback (most recent call last)",
      "\u001b[0;32m~/anaconda3/lib/python3.7/site-packages/matplotlib/animation.py\u001b[0m in \u001b[0;36m__getitem__\u001b[0;34m(self, name)\u001b[0m\n\u001b[1;32m    160\u001b[0m         \u001b[0;32mtry\u001b[0m\u001b[0;34m:\u001b[0m\u001b[0;34m\u001b[0m\u001b[0;34m\u001b[0m\u001b[0m\n\u001b[0;32m--> 161\u001b[0;31m             \u001b[0;32mreturn\u001b[0m \u001b[0mself\u001b[0m\u001b[0;34m.\u001b[0m\u001b[0mavail\u001b[0m\u001b[0;34m[\u001b[0m\u001b[0mname\u001b[0m\u001b[0;34m]\u001b[0m\u001b[0;34m\u001b[0m\u001b[0;34m\u001b[0m\u001b[0m\n\u001b[0m\u001b[1;32m    162\u001b[0m         \u001b[0;32mexcept\u001b[0m \u001b[0mKeyError\u001b[0m\u001b[0;34m:\u001b[0m\u001b[0;34m\u001b[0m\u001b[0;34m\u001b[0m\u001b[0m\n",
      "\u001b[0;31mKeyError\u001b[0m: 'ffmpeg'",
      "\nDuring handling of the above exception, another exception occurred:\n",
      "\u001b[0;31mRuntimeError\u001b[0m                              Traceback (most recent call last)",
      "\u001b[0;32m~/anaconda3/lib/python3.7/site-packages/IPython/core/formatters.py\u001b[0m in \u001b[0;36m__call__\u001b[0;34m(self, obj)\u001b[0m\n\u001b[1;32m    343\u001b[0m             \u001b[0mmethod\u001b[0m \u001b[0;34m=\u001b[0m \u001b[0mget_real_method\u001b[0m\u001b[0;34m(\u001b[0m\u001b[0mobj\u001b[0m\u001b[0;34m,\u001b[0m \u001b[0mself\u001b[0m\u001b[0;34m.\u001b[0m\u001b[0mprint_method\u001b[0m\u001b[0;34m)\u001b[0m\u001b[0;34m\u001b[0m\u001b[0;34m\u001b[0m\u001b[0m\n\u001b[1;32m    344\u001b[0m             \u001b[0;32mif\u001b[0m \u001b[0mmethod\u001b[0m \u001b[0;32mis\u001b[0m \u001b[0;32mnot\u001b[0m \u001b[0;32mNone\u001b[0m\u001b[0;34m:\u001b[0m\u001b[0;34m\u001b[0m\u001b[0;34m\u001b[0m\u001b[0m\n\u001b[0;32m--> 345\u001b[0;31m                 \u001b[0;32mreturn\u001b[0m \u001b[0mmethod\u001b[0m\u001b[0;34m(\u001b[0m\u001b[0;34m)\u001b[0m\u001b[0;34m\u001b[0m\u001b[0;34m\u001b[0m\u001b[0m\n\u001b[0m\u001b[1;32m    346\u001b[0m             \u001b[0;32mreturn\u001b[0m \u001b[0;32mNone\u001b[0m\u001b[0;34m\u001b[0m\u001b[0;34m\u001b[0m\u001b[0m\n\u001b[1;32m    347\u001b[0m         \u001b[0;32melse\u001b[0m\u001b[0;34m:\u001b[0m\u001b[0;34m\u001b[0m\u001b[0;34m\u001b[0m\u001b[0m\n",
      "\u001b[0;32m~/anaconda3/lib/python3.7/site-packages/matplotlib/animation.py\u001b[0m in \u001b[0;36m_repr_html_\u001b[0;34m(self)\u001b[0m\n\u001b[1;32m   1387\u001b[0m         \u001b[0mfmt\u001b[0m \u001b[0;34m=\u001b[0m \u001b[0mrcParams\u001b[0m\u001b[0;34m[\u001b[0m\u001b[0;34m'animation.html'\u001b[0m\u001b[0;34m]\u001b[0m\u001b[0;34m\u001b[0m\u001b[0;34m\u001b[0m\u001b[0m\n\u001b[1;32m   1388\u001b[0m         \u001b[0;32mif\u001b[0m \u001b[0mfmt\u001b[0m \u001b[0;34m==\u001b[0m \u001b[0;34m'html5'\u001b[0m\u001b[0;34m:\u001b[0m\u001b[0;34m\u001b[0m\u001b[0;34m\u001b[0m\u001b[0m\n\u001b[0;32m-> 1389\u001b[0;31m             \u001b[0;32mreturn\u001b[0m \u001b[0mself\u001b[0m\u001b[0;34m.\u001b[0m\u001b[0mto_html5_video\u001b[0m\u001b[0;34m(\u001b[0m\u001b[0;34m)\u001b[0m\u001b[0;34m\u001b[0m\u001b[0;34m\u001b[0m\u001b[0m\n\u001b[0m\u001b[1;32m   1390\u001b[0m         \u001b[0;32melif\u001b[0m \u001b[0mfmt\u001b[0m \u001b[0;34m==\u001b[0m \u001b[0;34m'jshtml'\u001b[0m\u001b[0;34m:\u001b[0m\u001b[0;34m\u001b[0m\u001b[0;34m\u001b[0m\u001b[0m\n\u001b[1;32m   1391\u001b[0m             \u001b[0;32mreturn\u001b[0m \u001b[0mself\u001b[0m\u001b[0;34m.\u001b[0m\u001b[0mto_jshtml\u001b[0m\u001b[0;34m(\u001b[0m\u001b[0;34m)\u001b[0m\u001b[0;34m\u001b[0m\u001b[0;34m\u001b[0m\u001b[0m\n",
      "\u001b[0;32m~/anaconda3/lib/python3.7/site-packages/matplotlib/animation.py\u001b[0m in \u001b[0;36mto_html5_video\u001b[0;34m(self, embed_limit)\u001b[0m\n\u001b[1;32m   1324\u001b[0m                 \u001b[0;31m# We create a writer manually so that we can get the\u001b[0m\u001b[0;34m\u001b[0m\u001b[0;34m\u001b[0m\u001b[0;34m\u001b[0m\u001b[0m\n\u001b[1;32m   1325\u001b[0m                 \u001b[0;31m# appropriate size for the tag\u001b[0m\u001b[0;34m\u001b[0m\u001b[0;34m\u001b[0m\u001b[0;34m\u001b[0m\u001b[0m\n\u001b[0;32m-> 1326\u001b[0;31m                 \u001b[0mWriter\u001b[0m \u001b[0;34m=\u001b[0m \u001b[0mwriters\u001b[0m\u001b[0;34m[\u001b[0m\u001b[0mrcParams\u001b[0m\u001b[0;34m[\u001b[0m\u001b[0;34m'animation.writer'\u001b[0m\u001b[0;34m]\u001b[0m\u001b[0;34m]\u001b[0m\u001b[0;34m\u001b[0m\u001b[0;34m\u001b[0m\u001b[0m\n\u001b[0m\u001b[1;32m   1327\u001b[0m                 writer = Writer(codec='h264',\n\u001b[1;32m   1328\u001b[0m                                 \u001b[0mbitrate\u001b[0m\u001b[0;34m=\u001b[0m\u001b[0mrcParams\u001b[0m\u001b[0;34m[\u001b[0m\u001b[0;34m'animation.bitrate'\u001b[0m\u001b[0;34m]\u001b[0m\u001b[0;34m,\u001b[0m\u001b[0;34m\u001b[0m\u001b[0;34m\u001b[0m\u001b[0m\n",
      "\u001b[0;32m~/anaconda3/lib/python3.7/site-packages/matplotlib/animation.py\u001b[0m in \u001b[0;36m__getitem__\u001b[0;34m(self, name)\u001b[0m\n\u001b[1;32m    162\u001b[0m         \u001b[0;32mexcept\u001b[0m \u001b[0mKeyError\u001b[0m\u001b[0;34m:\u001b[0m\u001b[0;34m\u001b[0m\u001b[0;34m\u001b[0m\u001b[0m\n\u001b[1;32m    163\u001b[0m             raise RuntimeError(\n\u001b[0;32m--> 164\u001b[0;31m                 'Requested MovieWriter ({}) not available'.format(name))\n\u001b[0m\u001b[1;32m    165\u001b[0m \u001b[0;34m\u001b[0m\u001b[0m\n\u001b[1;32m    166\u001b[0m \u001b[0;34m\u001b[0m\u001b[0m\n",
      "\u001b[0;31mRuntimeError\u001b[0m: Requested MovieWriter (ffmpeg) not available"
     ]
    },
    {
     "data": {
      "text/plain": [
       "<matplotlib.animation.FuncAnimation at 0x7f70744bed10>"
      ]
     },
     "execution_count": 5,
     "metadata": {},
     "output_type": "execute_result"
    }
   ],
   "source": [
    "ani"
   ]
  },
  {
   "cell_type": "code",
   "execution_count": null,
   "metadata": {},
   "outputs": [],
   "source": []
  }
 ],
 "metadata": {
  "kernelspec": {
   "display_name": "Python 3",
   "language": "python",
   "name": "python3"
  },
  "language_info": {
   "codemirror_mode": {
    "name": "ipython",
    "version": 3
   },
   "file_extension": ".py",
   "mimetype": "text/x-python",
   "name": "python",
   "nbconvert_exporter": "python",
   "pygments_lexer": "ipython3",
   "version": "3.7.4"
  }
 },
 "nbformat": 4,
 "nbformat_minor": 2
}
