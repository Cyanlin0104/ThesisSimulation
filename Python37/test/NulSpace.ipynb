{
 "cells": [
  {
   "cell_type": "code",
   "execution_count": 152,
   "metadata": {},
   "outputs": [],
   "source": [
    "import numpy as np\n",
    "from numpy.linalg import svd, pinv"
   ]
  },
  {
   "cell_type": "code",
   "execution_count": 146,
   "metadata": {},
   "outputs": [],
   "source": [
    "m = 3\n",
    "n = 5\n",
    "J = np.random.rand(m, n)"
   ]
  },
  {
   "cell_type": "code",
   "execution_count": 164,
   "metadata": {},
   "outputs": [],
   "source": [
    "u, s, vh = svd(pinv(J.T))"
   ]
  },
  {
   "cell_type": "code",
   "execution_count": 165,
   "metadata": {},
   "outputs": [],
   "source": [
    "S = np.zeros_like(J)\n",
    "S[:min(J.shape[0], J.shape[1]), :min(J.shape[0], J.shape[1])] = np.diag(s)\n",
    "V = vh.conj().T\n",
    "U = u"
   ]
  },
  {
   "cell_type": "code",
   "execution_count": 166,
   "metadata": {},
   "outputs": [
    {
     "data": {
      "text/plain": [
       "True"
      ]
     },
     "execution_count": 166,
     "metadata": {},
     "output_type": "execute_result"
    }
   ],
   "source": [
    "N_ = (np.eye(J.shape[1]) - np.dot(pinv(J), J))\n",
    "x = np.random.rand(J.shape[1], 1)\n",
    "np.allclose(np.dot(J, np.dot(N_,x)), np.zeros(J.shape[0]))"
   ]
  },
  {
   "cell_type": "code",
   "execution_count": 170,
   "metadata": {},
   "outputs": [
    {
     "data": {
      "text/plain": [
       "array([[-7.10065879e-16,  1.33854446e-15,  1.28801904e-16,\n",
       "        -3.36522038e-16, -1.74428011e-16],\n",
       "       [-5.78027022e-16,  1.10185973e-15,  9.32195599e-17,\n",
       "        -6.71160727e-16,  1.98482094e-16],\n",
       "       [-7.04164908e-16,  1.08628673e-15,  6.83126299e-17,\n",
       "        -7.49818208e-17, -3.02961861e-16]])"
      ]
     },
     "execution_count": 170,
     "metadata": {},
     "output_type": "execute_result"
    }
   ],
   "source": [
    "N = (np.eye(J.shape[1]) - np.dot(V, np.dot(np.dot(pinv(S), S), V.T)))\n",
    "np.dot(J, N)"
   ]
  },
  {
   "cell_type": "code",
   "execution_count": 159,
   "metadata": {},
   "outputs": [
    {
     "name": "stdout",
     "output_type": "stream",
     "text": [
      "U:\n",
      " [[-0.61584751  0.28664283 -0.73387175]\n",
      " [-0.6548776  -0.70410379  0.27454175]\n",
      " [-0.43802646  0.64967202  0.62133653]]\n",
      "s: \n",
      " [2.56150964 0.580055   0.21889061]\n",
      "Vh: \u000b",
      " [[-0.37896444 -0.35837682 -0.56950737 -0.56420944 -0.29202923]\n",
      " [-0.45427496  0.12177142 -0.00798327  0.58005402 -0.66504104]\n",
      " [ 0.71259165  0.32547053 -0.44790834 -0.01029111 -0.43076013]\n",
      " [ 0.2216968  -0.69251397 -0.3594227   0.54810419  0.20413733]\n",
      " [-0.30509651  0.52079854 -0.58804002  0.21137863  0.49518988]]\n"
     ]
    }
   ],
   "source": [
    "u, s, vh = svd(J)\n",
    "print('U:\\n', u)\n",
    "print('s: \\n', s)\n",
    "print('Vh: \\v',vh)"
   ]
  },
  {
   "cell_type": "code",
   "execution_count": 153,
   "metadata": {},
   "outputs": [],
   "source": [
    "def nullspace(A, atol=1e-13, rtol=0):\n",
    "    A = np.atleast_2d(A)\n",
    "    u,s,vh = svd(A)\n",
    "    tol = max(atol, rtol*s[0])\n",
    "    nnz = (s >= tol).sum()\n",
    "    ns = vh[nnz:].conj().T\n",
    "    return ns"
   ]
  },
  {
   "cell_type": "code",
   "execution_count": 160,
   "metadata": {},
   "outputs": [
    {
     "name": "stdout",
     "output_type": "stream",
     "text": [
      "U:\n",
      " [[-0.73387175  0.28664283  0.61584751]\n",
      " [ 0.27454175 -0.70410379  0.6548776 ]\n",
      " [ 0.62133653  0.64967202  0.43802646]]\n",
      "s: \n",
      " [4.56849203 1.72397444 0.39039478]\n",
      "Vh: \u000b",
      " [[ 0.71259165  0.32547053 -0.44790834 -0.01029111 -0.43076013]\n",
      " [-0.45427496  0.12177142 -0.00798327  0.58005402 -0.66504104]\n",
      " [ 0.37896444  0.35837682  0.56950737  0.56420944  0.29202923]\n",
      " [ 0.15551057 -0.57306225 -0.4707778   0.57950003  0.29994015]\n",
      " [-0.34358378  0.64992797 -0.5033329   0.09632677  0.44375778]]\n"
     ]
    }
   ],
   "source": [
    "u, s, vh = svd(pinv(J.T))\n",
    "print('U:\\n', u)\n",
    "print('s: \\n', s)\n",
    "print('Vh: \\v',vh)"
   ]
  },
  {
   "cell_type": "code",
   "execution_count": null,
   "metadata": {},
   "outputs": [],
   "source": []
  }
 ],
 "metadata": {
  "kernelspec": {
   "display_name": "Python 3",
   "language": "python",
   "name": "python3"
  },
  "language_info": {
   "codemirror_mode": {
    "name": "ipython",
    "version": 3
   },
   "file_extension": ".py",
   "mimetype": "text/x-python",
   "name": "python",
   "nbconvert_exporter": "python",
   "pygments_lexer": "ipython3",
   "version": "3.7.4"
  }
 },
 "nbformat": 4,
 "nbformat_minor": 2
}
