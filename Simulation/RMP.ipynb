{
 "cells": [
  {
   "cell_type": "code",
   "execution_count": 1,
   "metadata": {},
   "outputs": [],
   "source": [
    "import numpy as np\n",
    "import matplotlib.pyplot as plt"
   ]
  },
  {
   "cell_type": "code",
   "execution_count": 2,
   "metadata": {},
   "outputs": [],
   "source": [
    "def plot_PhasePortrait(f, x0, x1, axes ,lim):\n",
    "    X0, X1 = np.meshgrid(x0, x1)\n",
    "    X_dot0, X_dot1 = np.zeros(X0.shape), np.zeros(X1.shape)\n",
    "    NI, NJ = X0.shape\n",
    "    \n",
    "    for i in range(NI):\n",
    "        for j in range(NJ):\n",
    "            X_dot = f([X0[i, j], X1[i, j]])\n",
    "            X_dot0[i, j] = X_dot[0]\n",
    "            X_dot1[i, j] = X_dot[1]\n",
    "\n",
    "    Q = axes.quiver(X0, X1, X_dot0, X_dot1, color='r')\n",
    "    axes.set_xlabel('$x$')\n",
    "    axes.set_ylabel('$\\dot{x}$')\n",
    "    axes.set_xlim(lim[0])\n",
    "    axes.set_ylim(lim[1])"
   ]
  },
  {
   "cell_type": "markdown",
   "metadata": {},
   "source": [
    "### Motion Policy\n",
    "\n",
    ">A motion policy is a map $\\mathbf{\\pi}: \\mathbf{y},\\mathbf{\\dot{y}} \\rightarrow \\mathbf{\\ddot{y}}$ from position and velocity to acceleration"
   ]
  },
  {
   "cell_type": "markdown",
   "metadata": {},
   "source": [
    "---\n",
    "\n",
    "Now consider Riemannian Motion Policy \n",
    "that avoid obstacle\n",
    "\n",
    "Designed Geometry Dynamic System:\n",
    "$$\n",
    "(G(x, \\dot{x}) + \\Xi_G)\\ddot{x} + \\xi_G = -B\\dot{x} - \\nabla_x\\phi(x)\n",
    "$$\n",
    "on the 1-d manifold with a coordinate $x = d(q)$, where \n",
    "$d$ is a distance function\n",
    "\n",
    "\n",
    "1. design $G(x, \\dot{x})$\n",
    "\n",
    "here we choose \n",
    "$$\n",
    "    G(x, \\dot{x})=w(x)u(\\dot{x}) > 0 \\\\\n",
    "    w(x) = \\frac{1}{x^4} \\\\\n",
    "    u(\\dot{x}) = min(0, \\dot{x})\\dot{x} + \\epsilon \n",
    "$$\n"
   ]
  },
  {
   "cell_type": "code",
   "execution_count": null,
   "metadata": {},
   "outputs": [],
   "source": [
    "def RMP_obs(alpha, eps, x, x_dot):\n",
    "    if(x_dot) > 0:\n",
    "        x_ddot = (4*alpha) / (eps*(x**5))\n",
    "    else:\n",
    "        x_ddot = 2*(x**4*x_dot**4 + 2*alpha) / ((2*x_dot + eps)* x**5)\n",
    "    return x_ddot\n",
    "\n",
    "\n",
    "alpha = 0.01\n",
    "eps = 1e-5\n",
    "def f(x):\n",
    "    return np.array([x[1], RMP_obs(alpha, eps, x[0], x[1])])\n"
   ]
  },
  {
   "cell_type": "code",
   "execution_count": null,
   "metadata": {},
   "outputs": [],
   "source": [
    "x = np.linspace(0, 5, 200)\n",
    "x_dot = np.linspace(-1.0, 1.0, 200)\n",
    "fig = plt.figure() \n",
    "axes = fig.add_axes([0, 0, 1, 1])\n",
    "axes_limit = [[0,0.5], [-2, 2]]\n",
    "\n",
    "plot_PhasePortrait(f, x, x_dot, axes, axes_limit)"
   ]
  },
  {
   "cell_type": "code",
   "execution_count": null,
   "metadata": {},
   "outputs": [],
   "source": []
  }
 ],
 "metadata": {
  "kernelspec": {
   "display_name": "Python 3",
   "language": "python",
   "name": "python3"
  },
  "language_info": {
   "codemirror_mode": {
    "name": "ipython",
    "version": 3
   },
   "file_extension": ".py",
   "mimetype": "text/x-python",
   "name": "python",
   "nbconvert_exporter": "python",
   "pygments_lexer": "ipython3",
   "version": "3.7.4"
  }
 },
 "nbformat": 4,
 "nbformat_minor": 2
}
